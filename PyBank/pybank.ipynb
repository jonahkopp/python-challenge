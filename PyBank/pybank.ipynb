{
 "cells": [
  {
   "cell_type": "code",
   "execution_count": null,
   "metadata": {},
   "outputs": [],
   "source": [
    "import csv"
   ]
  },
  {
   "cell_type": "code",
   "execution_count": null,
   "metadata": {},
   "outputs": [],
   "source": [
    "path = \"Resources/budget_data.csv\"\n",
    "\n",
    "# initializing variables\n",
    "month_count = 0\n",
    "profit = 0\n",
    "avg_change = 0.0\n",
    "total_profit_changes = 0\n",
    "greatest_increase = 0\n",
    "g_i_month = \"Jan-01\"\n",
    "greatest_decrease = 0\n",
    "g_d_month = \"Jan-01\"\n",
    "last_profit = 0"
   ]
  },
  {
   "cell_type": "code",
   "execution_count": null,
   "metadata": {},
   "outputs": [],
   "source": [
    "with open(path) as bank_file:\n",
    "    csvreader = csv.reader(bank_file, delimiter=\",\")\n",
    "\n",
    "    # skip the header\n",
    "    next(csvreader)\n",
    "\n",
    "    for row in csvreader:\n",
    "        \n",
    "        # test the loop using the print statement below\n",
    "        # print(f\"{row[0]}: {row[1]}\")\n",
    "\n",
    "        if row[0] == \"Jan-10\":\n",
    "            last_profit = int(row[1])\n",
    "        \n",
    "        # add month count and profit to the aggregators\n",
    "        month_count += 1\n",
    "        profit += int(row[1])\n",
    "\n",
    "        # calculate profit change relative to the preceding row in the file\n",
    "        profit_change = int(row[1]) - last_profit\n",
    "\n",
    "        # check for greatest increase and decrease\n",
    "        if profit_change > greatest_increase:\n",
    "            greatest_increase = profit_change\n",
    "            g_i_month = row[0]\n",
    "\n",
    "        if profit_change < greatest_decrease:\n",
    "            greatest_decrease = profit_change\n",
    "            g_d_month = row[0]\n",
    "\n",
    "        # add profit change to aggregator for average calculation later\n",
    "        total_profit_changes += profit_change\n",
    "\n",
    "        # save current profit to be used for comparison in the next row of the file\n",
    "        last_profit = int(row[1])\n",
    "\n",
    "    # when calculating the average, ignore 1st month since that's not a \"change\"\n",
    "    avg_change = total_profit_changes / (month_count - 1)"
   ]
  },
  {
   "cell_type": "code",
   "execution_count": null,
   "metadata": {},
   "outputs": [],
   "source": [
    "print(\"Financial Analysis\")\n",
    "print(\"----------------------------\")\n",
    "print(f\"Total Months: {month_count}\")\n",
    "print(f\"Total: ${profit}\")\n",
    "print(f\"Average Change: ${round(avg_change,2)}\")\n",
    "print(f\"Greatest Increase in Profits: {g_i_month} (${greatest_increase})\")\n",
    "print(f\"Greatest Decrease in Profits: {g_d_month} (${greatest_decrease})\")"
   ]
  }
 ],
 "metadata": {
  "kernelspec": {
   "display_name": "dev",
   "language": "python",
   "name": "python3"
  },
  "language_info": {
   "codemirror_mode": {
    "name": "ipython",
    "version": 3
   },
   "file_extension": ".py",
   "mimetype": "text/x-python",
   "name": "python",
   "nbconvert_exporter": "python",
   "pygments_lexer": "ipython3",
   "version": "3.10.13"
  }
 },
 "nbformat": 4,
 "nbformat_minor": 2
}
