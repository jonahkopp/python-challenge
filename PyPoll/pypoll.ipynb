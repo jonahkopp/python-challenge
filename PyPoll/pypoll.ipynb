{
 "cells": [
  {
   "cell_type": "code",
   "execution_count": 6,
   "metadata": {},
   "outputs": [],
   "source": [
    "import csv"
   ]
  },
  {
   "cell_type": "code",
   "execution_count": 12,
   "metadata": {},
   "outputs": [],
   "source": [
    "path = \"Resources/election_data.csv\"\n",
    "\n",
    "# initializing variables\n",
    "candidates = []\n",
    "votes_by_candidate = []\n",
    "percentages = []\n"
   ]
  },
  {
   "cell_type": "code",
   "execution_count": 13,
   "metadata": {},
   "outputs": [
    {
     "name": "stdout",
     "output_type": "stream",
     "text": [
      "['Charles Casper Stockham', 'Diana DeGette', 'Raymon Anthony Doane']\n",
      "[85213, 272892, 11606]\n"
     ]
    }
   ],
   "source": [
    "with open(path) as election_file:\n",
    "\n",
    "    # read file\n",
    "    csvreader = csv.reader(election_file, delimiter=\",\")\n",
    "\n",
    "    header = next(csvreader)\n",
    "\n",
    "    for row in csvreader:\n",
    "        \n",
    "        # get current candidate\n",
    "        candidate = row[2]\n",
    "\n",
    "        # if its a new candidate, add it to the list of candidates and add a corresponding vote counter\n",
    "        if row[2] not in candidates:\n",
    "            candidates.append(candidate)\n",
    "            votes_by_candidate.append(0)\n",
    "\n",
    "        votes_by_candidate[candidates.index(row[2])] += 1\n",
    "\n",
    "print(candidates)\n",
    "print(votes_by_candidate)"
   ]
  },
  {
   "cell_type": "code",
   "execution_count": null,
   "metadata": {},
   "outputs": [],
   "source": [
    "# print(\"Election Results\")\n",
    "# print(\"-------------------------\")\n",
    "# print(f\"Total Votes: {total_votes}\")\n",
    "\n",
    "# for i in len(candidates):\n",
    "#     print(f\"{candidates[i]}: {percentages[i]} ({votes_by_candidate[i]})\")\n",
    "# print(\"-------------------------\")\n",
    "\n"
   ]
  }
 ],
 "metadata": {
  "kernelspec": {
   "display_name": "dev",
   "language": "python",
   "name": "python3"
  },
  "language_info": {
   "codemirror_mode": {
    "name": "ipython",
    "version": 3
   },
   "file_extension": ".py",
   "mimetype": "text/x-python",
   "name": "python",
   "nbconvert_exporter": "python",
   "pygments_lexer": "ipython3",
   "version": "3.10.13"
  }
 },
 "nbformat": 4,
 "nbformat_minor": 2
}
