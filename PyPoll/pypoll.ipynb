{
 "cells": [
  {
   "cell_type": "code",
   "execution_count": 1,
   "metadata": {},
   "outputs": [],
   "source": [
    "import csv"
   ]
  },
  {
   "cell_type": "code",
   "execution_count": 2,
   "metadata": {},
   "outputs": [],
   "source": [
    "path = \"Resources/election_data.csv\"\n",
    "\n",
    "# initializing variables\n",
    "candidates = []\n",
    "votes_by_candidate = []\n",
    "percentages = []\n",
    "total_votes = 0\n",
    "winner = \"\""
   ]
  },
  {
   "cell_type": "code",
   "execution_count": 3,
   "metadata": {},
   "outputs": [],
   "source": [
    "with open(path) as election_file:\n",
    "\n",
    "    # read file\n",
    "    csvreader = csv.reader(election_file, delimiter=\",\")\n",
    "\n",
    "    # read header\n",
    "    header = next(csvreader)\n",
    "\n",
    "    for row in csvreader:\n",
    "        \n",
    "        # get current candidate\n",
    "        candidate = row[2]\n",
    "\n",
    "        # if its a new candidate, add it to the list of candidates and add a corresponding vote counter\n",
    "        if row[2] not in candidates:\n",
    "            candidates.append(candidate)\n",
    "            votes_by_candidate.append(0)\n",
    "\n",
    "        votes_by_candidate[candidates.index(row[2])] += 1"
   ]
  },
  {
   "cell_type": "code",
   "execution_count": 4,
   "metadata": {},
   "outputs": [],
   "source": [
    "# calculate total votes so that we can calculate % votes won by candidate\n",
    "total_votes = sum(votes_by_candidate)\n",
    "\n",
    "# calculate percentages and append them to the percentages list\n",
    "for i in range(len(candidates)):\n",
    "    percentages.append(votes_by_candidate[i]/total_votes)\n",
    "\n",
    "    # format percentages list for readability at the output\n",
    "    percentages[i] = round(percentages[i]*100,3)"
   ]
  },
  {
   "cell_type": "code",
   "execution_count": 5,
   "metadata": {},
   "outputs": [],
   "source": [
    "# determine winner\n",
    "\n",
    "# what is the most votes a candidate got?\n",
    "most_votes = max(votes_by_candidate)\n",
    "\n",
    "# who got that number of votes?\n",
    "winner = candidates[votes_by_candidate.index(most_votes)]"
   ]
  },
  {
   "cell_type": "code",
   "execution_count": 6,
   "metadata": {},
   "outputs": [],
   "source": [
    "# create one more list that is a boolean that tells us whether the candidate won the election\n",
    "winner_list = []\n",
    "for i in range(len(candidates)):\n",
    "    if candidates[i] == winner:\n",
    "        winner_list.append(True)\n",
    "    else:\n",
    "        winner_list.append(False)"
   ]
  },
  {
   "cell_type": "code",
   "execution_count": 7,
   "metadata": {},
   "outputs": [
    {
     "name": "stdout",
     "output_type": "stream",
     "text": [
      "Election Results\n",
      "-------------------------\n",
      "Total Votes: 369711\n",
      "-------------------------\n",
      "Charles Casper Stockham: 23.049% (85213)\n",
      "Diana DeGette: 73.812% (272892)\n",
      "Raymon Anthony Doane: 3.139% (11606)\n",
      "-------------------------\n",
      "Winner: Diana DeGette\n",
      "-------------------------\n"
     ]
    }
   ],
   "source": [
    "print(\"Election Results\")\n",
    "print(\"-------------------------\")\n",
    "print(f\"Total Votes: {total_votes}\")\n",
    "print(\"-------------------------\")\n",
    "for i in range(len(candidates)):\n",
    "    print(f\"{candidates[i]}: {percentages[i]}% ({votes_by_candidate[i]})\")\n",
    "print(\"-------------------------\")\n",
    "print(f\"Winner: {winner}\")\n",
    "print(\"-------------------------\")"
   ]
  },
  {
   "cell_type": "code",
   "execution_count": 8,
   "metadata": {},
   "outputs": [],
   "source": [
    "# this code block outputs a text file.\n",
    "\n",
    "# combine lists using the zip function\n",
    "cleaned_csv = list(zip(candidates,votes_by_candidate,percentages,winner_list))\n",
    "\n",
    "output_file = \"poll_results.csv\"\n",
    "\n",
    "# open the file in write mode\n",
    "with open(output_file, \"w\", newline='') as datafile:\n",
    "    writer = csv.writer(datafile)\n",
    "\n",
    "    # create the header\n",
    "    writer.writerow([\"Candidate\",\"Votes\",\"Percentage of Total Votes\",\"Winner?\"])\n",
    "\n",
    "    # write in the rows\n",
    "    writer.writerows(cleaned_csv)"
   ]
  }
 ],
 "metadata": {
  "kernelspec": {
   "display_name": "dev",
   "language": "python",
   "name": "python3"
  },
  "language_info": {
   "codemirror_mode": {
    "name": "ipython",
    "version": 3
   },
   "file_extension": ".py",
   "mimetype": "text/x-python",
   "name": "python",
   "nbconvert_exporter": "python",
   "pygments_lexer": "ipython3",
   "version": "3.10.13"
  }
 },
 "nbformat": 4,
 "nbformat_minor": 2
}
